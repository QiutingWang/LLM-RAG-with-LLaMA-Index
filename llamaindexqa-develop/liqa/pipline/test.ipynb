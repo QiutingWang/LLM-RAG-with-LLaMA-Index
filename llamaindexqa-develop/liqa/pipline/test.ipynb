{
 "cells": [
  {
   "cell_type": "code",
   "execution_count": 1,
   "metadata": {},
   "outputs": [],
   "source": [
    "import os \n",
    "import sys\n",
    "sys.path.append(os.path.dirname(os.path.dirname(os.getcwd())))"
   ]
  },
  {
   "cell_type": "code",
   "execution_count": 2,
   "metadata": {},
   "outputs": [],
   "source": [
    "from llama_index.bridge.pydantic import BaseModel\n",
    "from llama_index.schema import NodeWithScore\n",
    "def print_node_content(source_nodes: list[NodeWithScore]):\n",
    "    for node_score in source_nodes:\n",
    "        print(node_score.node.node_id, node_score.node.get_content())\n"
   ]
  },
  {
   "cell_type": "code",
   "execution_count": 3,
   "metadata": {},
   "outputs": [],
   "source": [
    "import os\n",
    "import sys\n",
    "from llama_index import (\n",
    "    VectorStoreIndex, \n",
    "    SimpleDirectoryReader,\n",
    "    ServiceContext,\n",
    "    StorageContext, \n",
    "    load_index_from_storage\n",
    ")\n",
    "\n",
    "from llama_index.node_parser import HierarchicalNodeParser\n",
    "from liqa.query.chinese_prompt import DEFAULT_TEXT_QA_PROMPT, DEFAULT_REFINE_PROMPT\n",
    "\n",
    "os.environ[\"OPENAI_API_KEY\"] = 'sk-aJzbu0F3j7bstWlR3e4cA9Db59Ac4f669a9f471aFa66C458'\n",
    "os.environ[\"OPENAI_API_BASE\"] = 'https://gf.nekoapi.com/v1'\n",
    "\n",
    "def query_by_database(database_path:str):\n",
    "    # check if storage already exists\n",
    "    if (not os.path.exists(f\"{database_path}/storage\")):\n",
    "        # load the documents and create the index\n",
    "        documents = SimpleDirectoryReader(database_path).load_data()\n",
    "        index = VectorStoreIndex.from_documents(documents)\n",
    "        # store it for later\n",
    "        index.storage_context.persist(persist_dir=f\"{database_path}/storage\")\n",
    "    else:\n",
    "        # load the existing index\n",
    "        storage_context = StorageContext.from_defaults(persist_dir=f\"{database_path}/storage\")\n",
    "        index = load_index_from_storage(storage_context)\n",
    "\n",
    "    query_engine = index.as_query_engine(\n",
    "        text_qa_template = DEFAULT_TEXT_QA_PROMPT,\n",
    "        refine_template = DEFAULT_REFINE_PROMPT\n",
    "    )\n",
    "\n",
    "    response = query_engine.query(\"哪些基金可以在深交所上市交易？\")\n",
    "    print_node_content(response.source_nodes)\n",
    "    print(response)"
   ]
  },
  {
   "cell_type": "code",
   "execution_count": 11,
   "metadata": {},
   "outputs": [
    {
     "name": "stdout",
     "output_type": "stream",
     "text": [
      "Empty Response\n"
     ]
    }
   ],
   "source": [
    "query_by_database(\"/home/sunshangbin.p/workspace/llamaindexqa/liqa/dataset/right/source\")"
   ]
  },
  {
   "cell_type": "code",
   "execution_count": 1,
   "metadata": {},
   "outputs": [
    {
     "name": "stdout",
     "output_type": "stream",
     "text": [
      "[]\n"
     ]
    }
   ],
   "source": [
    "import os\n",
    "import sys\n",
    "from llama_index import (\n",
    "    VectorStoreIndex, \n",
    "    SimpleDirectoryReader,\n",
    "    ServiceContext,\n",
    "    StorageContext, \n",
    "    load_index_from_storage\n",
    ")\n",
    "\n",
    "from llama_index.node_parser import SimpleNodeParser\n",
    "sys.path.append(os.path.dirname(os.path.dirname(os.getcwd())))\n",
    "\n",
    "from liqa.load.format_pdf_reader import FormatPdfReader\n",
    "\n",
    "pdf_path = \"/home/sunshangbin.p/workspace/llamaindexqa/liqa/dataset/right/source\"\n",
    "documents = SimpleDirectoryReader(pdf_path, file_extractor={\".pdf\": FormatPdfReader()}).load_data()\n",
    "\n",
    "print(documents)"
   ]
  }
 ],
 "metadata": {
  "kernelspec": {
   "display_name": "base",
   "language": "python",
   "name": "python3"
  },
  "language_info": {
   "codemirror_mode": {
    "name": "ipython",
    "version": 3
   },
   "file_extension": ".py",
   "mimetype": "text/x-python",
   "name": "python",
   "nbconvert_exporter": "python",
   "pygments_lexer": "ipython3",
   "version": "3.11.5"
  },
  "orig_nbformat": 4
 },
 "nbformat": 4,
 "nbformat_minor": 2
}
